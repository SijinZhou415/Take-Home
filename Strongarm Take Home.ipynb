{
 "cells": [
  {
   "cell_type": "code",
   "execution_count": 1,
   "metadata": {},
   "outputs": [],
   "source": [
    "import  warnings\n",
    "warnings.simplefilter('ignore')\n",
    "\n",
    "import numpy as np\n",
    "import pandas as pd\n",
    "import seaborn as sns\n",
    "import matplotlib.pyplot as plt\n",
    "from scipy.stats import ttest_ind\n",
    "from scipy import stats\n",
    "\n",
    "%matplotlib inline"
   ]
  },
  {
   "cell_type": "markdown",
   "metadata": {},
   "source": [
    "# Insights\n",
    "### 1. In the intervention mode, the average of max forward bend, tilt velocity, and twist velocity are gernerally lower than baseline mode\n",
    "### 2. There is no moderate risk under the intervention mode but 173 records under the baseline mode. We can see from the result that the sensor has good influence for avoding moderate risk. No high risk in both group\n",
    "### 3. After t-test, there is the significant difference between baseline safety score and intevention safety score, suggesting that the sensor intervention can improve the workplaze safety\n",
    "### 4. After t-test result of each contribution factors to safety score, there is strong evidence that the sensor has the sigificant impact on lift rate"
   ]
  },
  {
   "cell_type": "markdown",
   "metadata": {},
   "source": [
    "# Recommendation\n",
    "### 1. The twist velocity is the most important feature to impact safety score, our clients should pay attention to workers twist motion\n",
    "### 2. Clients should continue choose to use the sensor since it has great impact on reducing the injuries and potential injuries"
   ]
  },
  {
   "cell_type": "code",
   "execution_count": 2,
   "metadata": {},
   "outputs": [],
   "source": [
    "data=pd.read_csv('strongarm_data.csv')"
   ]
  },
  {
   "cell_type": "code",
   "execution_count": 3,
   "metadata": {},
   "outputs": [
    {
     "data": {
      "text/html": [
       "<div>\n",
       "<style scoped>\n",
       "    .dataframe tbody tr th:only-of-type {\n",
       "        vertical-align: middle;\n",
       "    }\n",
       "\n",
       "    .dataframe tbody tr th {\n",
       "        vertical-align: top;\n",
       "    }\n",
       "\n",
       "    .dataframe thead th {\n",
       "        text-align: right;\n",
       "    }\n",
       "</style>\n",
       "<table border=\"1\" class=\"dataframe\">\n",
       "  <thead>\n",
       "    <tr style=\"text-align: right;\">\n",
       "      <th></th>\n",
       "      <th>Warehouse</th>\n",
       "      <th>Job Function</th>\n",
       "      <th>ID</th>\n",
       "      <th>Haptic Group</th>\n",
       "      <th>Baseline File Count</th>\n",
       "      <th>Baseline Average Lift Rate</th>\n",
       "      <th>Baseline Average Max Forward Bend</th>\n",
       "      <th>Baseline Average Max Tilt Velocity</th>\n",
       "      <th>Baseline Average Twist Velocity</th>\n",
       "      <th>Baseline Average Safety Score</th>\n",
       "      <th>Intervention File Count</th>\n",
       "      <th>Intervention Average Lift Rate</th>\n",
       "      <th>Intervention Average Max Forward Bend</th>\n",
       "      <th>Intervention Average Max Tilt Velocity</th>\n",
       "      <th>Intervention Average Twist Velocity</th>\n",
       "      <th>Intervention Average Safety Score</th>\n",
       "    </tr>\n",
       "  </thead>\n",
       "  <tbody>\n",
       "    <tr>\n",
       "      <th>0</th>\n",
       "      <td>Albany</td>\n",
       "      <td>Package Handler</td>\n",
       "      <td>A8R965235592</td>\n",
       "      <td>3 bends in 8 minute window over 65 degrees</td>\n",
       "      <td>19.0</td>\n",
       "      <td>155.7</td>\n",
       "      <td>93.1</td>\n",
       "      <td>88.8</td>\n",
       "      <td>23.2</td>\n",
       "      <td>59.7</td>\n",
       "      <td>13.0</td>\n",
       "      <td>131.7</td>\n",
       "      <td>75.7</td>\n",
       "      <td>76.7</td>\n",
       "      <td>23.4</td>\n",
       "      <td>67.7</td>\n",
       "    </tr>\n",
       "    <tr>\n",
       "      <th>1</th>\n",
       "      <td>Albany</td>\n",
       "      <td>Package Handler</td>\n",
       "      <td>A8R948483372</td>\n",
       "      <td>2 bends in 5 minute window over 65 degrees</td>\n",
       "      <td>7.0</td>\n",
       "      <td>153.8</td>\n",
       "      <td>97.6</td>\n",
       "      <td>76.1</td>\n",
       "      <td>24.5</td>\n",
       "      <td>62.7</td>\n",
       "      <td>2.0</td>\n",
       "      <td>142.3</td>\n",
       "      <td>90.4</td>\n",
       "      <td>88.3</td>\n",
       "      <td>24.9</td>\n",
       "      <td>60.2</td>\n",
       "    </tr>\n",
       "    <tr>\n",
       "      <th>2</th>\n",
       "      <td>Albany</td>\n",
       "      <td>Package Handler</td>\n",
       "      <td>A8R976577272</td>\n",
       "      <td>2 bends in 10 minute window over 65 degrees</td>\n",
       "      <td>16.0</td>\n",
       "      <td>145.6</td>\n",
       "      <td>86.9</td>\n",
       "      <td>76.7</td>\n",
       "      <td>21.0</td>\n",
       "      <td>66.4</td>\n",
       "      <td>17.0</td>\n",
       "      <td>124.1</td>\n",
       "      <td>69.7</td>\n",
       "      <td>76.3</td>\n",
       "      <td>20.8</td>\n",
       "      <td>70.2</td>\n",
       "    </tr>\n",
       "    <tr>\n",
       "      <th>3</th>\n",
       "      <td>Albany</td>\n",
       "      <td>Package Handler</td>\n",
       "      <td>A8R948425406</td>\n",
       "      <td>2 bends in 5 minute window over 65 degrees</td>\n",
       "      <td>1.0</td>\n",
       "      <td>145.2</td>\n",
       "      <td>83.3</td>\n",
       "      <td>73.7</td>\n",
       "      <td>21.6</td>\n",
       "      <td>68.1</td>\n",
       "      <td>NaN</td>\n",
       "      <td>NaN</td>\n",
       "      <td>NaN</td>\n",
       "      <td>NaN</td>\n",
       "      <td>NaN</td>\n",
       "      <td>NaN</td>\n",
       "    </tr>\n",
       "    <tr>\n",
       "      <th>4</th>\n",
       "      <td>Albany</td>\n",
       "      <td>Package Handler</td>\n",
       "      <td>A8R971243592</td>\n",
       "      <td>2 bends in 5 minute window over 65 degrees</td>\n",
       "      <td>9.0</td>\n",
       "      <td>145.1</td>\n",
       "      <td>105.0</td>\n",
       "      <td>86.1</td>\n",
       "      <td>23.2</td>\n",
       "      <td>58.6</td>\n",
       "      <td>16.0</td>\n",
       "      <td>131.4</td>\n",
       "      <td>104.0</td>\n",
       "      <td>89.9</td>\n",
       "      <td>23.7</td>\n",
       "      <td>58.1</td>\n",
       "    </tr>\n",
       "  </tbody>\n",
       "</table>\n",
       "</div>"
      ],
      "text/plain": [
       "  Warehouse     Job Function            ID  \\\n",
       "0    Albany  Package Handler  A8R965235592   \n",
       "1    Albany  Package Handler  A8R948483372   \n",
       "2    Albany  Package Handler  A8R976577272   \n",
       "3    Albany  Package Handler  A8R948425406   \n",
       "4    Albany  Package Handler  A8R971243592   \n",
       "\n",
       "                                  Haptic Group  Baseline File Count  \\\n",
       "0   3 bends in 8 minute window over 65 degrees                 19.0   \n",
       "1   2 bends in 5 minute window over 65 degrees                  7.0   \n",
       "2  2 bends in 10 minute window over 65 degrees                 16.0   \n",
       "3   2 bends in 5 minute window over 65 degrees                  1.0   \n",
       "4   2 bends in 5 minute window over 65 degrees                  9.0   \n",
       "\n",
       "   Baseline Average Lift Rate  Baseline Average Max Forward Bend  \\\n",
       "0                       155.7                               93.1   \n",
       "1                       153.8                               97.6   \n",
       "2                       145.6                               86.9   \n",
       "3                       145.2                               83.3   \n",
       "4                       145.1                              105.0   \n",
       "\n",
       "   Baseline Average Max Tilt Velocity  Baseline Average Twist Velocity  \\\n",
       "0                                88.8                             23.2   \n",
       "1                                76.1                             24.5   \n",
       "2                                76.7                             21.0   \n",
       "3                                73.7                             21.6   \n",
       "4                                86.1                             23.2   \n",
       "\n",
       "   Baseline Average Safety Score  Intervention File Count  \\\n",
       "0                           59.7                     13.0   \n",
       "1                           62.7                      2.0   \n",
       "2                           66.4                     17.0   \n",
       "3                           68.1                      NaN   \n",
       "4                           58.6                     16.0   \n",
       "\n",
       "   Intervention Average Lift Rate  Intervention Average Max Forward Bend  \\\n",
       "0                           131.7                                   75.7   \n",
       "1                           142.3                                   90.4   \n",
       "2                           124.1                                   69.7   \n",
       "3                             NaN                                    NaN   \n",
       "4                           131.4                                  104.0   \n",
       "\n",
       "   Intervention Average Max Tilt Velocity  \\\n",
       "0                                    76.7   \n",
       "1                                    88.3   \n",
       "2                                    76.3   \n",
       "3                                     NaN   \n",
       "4                                    89.9   \n",
       "\n",
       "   Intervention Average Twist Velocity  Intervention Average Safety Score  \n",
       "0                                 23.4                               67.7  \n",
       "1                                 24.9                               60.2  \n",
       "2                                 20.8                               70.2  \n",
       "3                                  NaN                                NaN  \n",
       "4                                 23.7                               58.1  "
      ]
     },
     "execution_count": 3,
     "metadata": {},
     "output_type": "execute_result"
    }
   ],
   "source": [
    "data.head()"
   ]
  },
  {
   "cell_type": "code",
   "execution_count": 4,
   "metadata": {},
   "outputs": [
    {
     "name": "stdout",
     "output_type": "stream",
     "text": [
      "<class 'pandas.core.frame.DataFrame'>\n",
      "RangeIndex: 267 entries, 0 to 266\n",
      "Data columns (total 16 columns):\n",
      " #   Column                                  Non-Null Count  Dtype  \n",
      "---  ------                                  --------------  -----  \n",
      " 0   Warehouse                               267 non-null    object \n",
      " 1   Job Function                            267 non-null    object \n",
      " 2   ID                                      267 non-null    object \n",
      " 3   Haptic Group                            267 non-null    object \n",
      " 4   Baseline File Count                     250 non-null    float64\n",
      " 5   Baseline Average Lift Rate              250 non-null    float64\n",
      " 6   Baseline Average Max Forward Bend       250 non-null    float64\n",
      " 7   Baseline Average Max Tilt Velocity      250 non-null    float64\n",
      " 8   Baseline Average Twist Velocity         250 non-null    float64\n",
      " 9   Baseline Average Safety Score           250 non-null    float64\n",
      " 10  Intervention File Count                 226 non-null    float64\n",
      " 11  Intervention Average Lift Rate          226 non-null    float64\n",
      " 12  Intervention Average Max Forward Bend   226 non-null    float64\n",
      " 13  Intervention Average Max Tilt Velocity  226 non-null    float64\n",
      " 14  Intervention Average Twist Velocity     226 non-null    float64\n",
      " 15  Intervention Average Safety Score       226 non-null    float64\n",
      "dtypes: float64(12), object(4)\n",
      "memory usage: 33.5+ KB\n"
     ]
    }
   ],
   "source": [
    "data.info()"
   ]
  },
  {
   "cell_type": "code",
   "execution_count": 5,
   "metadata": {},
   "outputs": [
    {
     "data": {
      "text/html": [
       "<div>\n",
       "<style scoped>\n",
       "    .dataframe tbody tr th:only-of-type {\n",
       "        vertical-align: middle;\n",
       "    }\n",
       "\n",
       "    .dataframe tbody tr th {\n",
       "        vertical-align: top;\n",
       "    }\n",
       "\n",
       "    .dataframe thead th {\n",
       "        text-align: right;\n",
       "    }\n",
       "</style>\n",
       "<table border=\"1\" class=\"dataframe\">\n",
       "  <thead>\n",
       "    <tr style=\"text-align: right;\">\n",
       "      <th></th>\n",
       "      <th>Baseline File Count</th>\n",
       "      <th>Baseline Average Lift Rate</th>\n",
       "      <th>Baseline Average Max Forward Bend</th>\n",
       "      <th>Baseline Average Max Tilt Velocity</th>\n",
       "      <th>Baseline Average Twist Velocity</th>\n",
       "      <th>Baseline Average Safety Score</th>\n",
       "      <th>Intervention File Count</th>\n",
       "      <th>Intervention Average Lift Rate</th>\n",
       "      <th>Intervention Average Max Forward Bend</th>\n",
       "      <th>Intervention Average Max Tilt Velocity</th>\n",
       "      <th>Intervention Average Twist Velocity</th>\n",
       "      <th>Intervention Average Safety Score</th>\n",
       "    </tr>\n",
       "  </thead>\n",
       "  <tbody>\n",
       "    <tr>\n",
       "      <th>count</th>\n",
       "      <td>250.000000</td>\n",
       "      <td>250.000000</td>\n",
       "      <td>250.0000</td>\n",
       "      <td>250.000000</td>\n",
       "      <td>250.000000</td>\n",
       "      <td>250.00000</td>\n",
       "      <td>226.000000</td>\n",
       "      <td>226.000000</td>\n",
       "      <td>226.000000</td>\n",
       "      <td>226.000000</td>\n",
       "      <td>226.000000</td>\n",
       "      <td>226.000000</td>\n",
       "    </tr>\n",
       "    <tr>\n",
       "      <th>mean</th>\n",
       "      <td>11.316000</td>\n",
       "      <td>101.800800</td>\n",
       "      <td>84.4992</td>\n",
       "      <td>79.541200</td>\n",
       "      <td>20.148000</td>\n",
       "      <td>67.38720</td>\n",
       "      <td>12.415929</td>\n",
       "      <td>94.064159</td>\n",
       "      <td>77.446018</td>\n",
       "      <td>79.291150</td>\n",
       "      <td>20.577434</td>\n",
       "      <td>68.613274</td>\n",
       "    </tr>\n",
       "    <tr>\n",
       "      <th>std</th>\n",
       "      <td>7.016915</td>\n",
       "      <td>26.701345</td>\n",
       "      <td>9.0167</td>\n",
       "      <td>11.646815</td>\n",
       "      <td>2.729862</td>\n",
       "      <td>5.19752</td>\n",
       "      <td>8.803258</td>\n",
       "      <td>26.560991</td>\n",
       "      <td>11.120284</td>\n",
       "      <td>14.341111</td>\n",
       "      <td>2.836081</td>\n",
       "      <td>5.961029</td>\n",
       "    </tr>\n",
       "    <tr>\n",
       "      <th>min</th>\n",
       "      <td>1.000000</td>\n",
       "      <td>15.700000</td>\n",
       "      <td>56.0000</td>\n",
       "      <td>49.600000</td>\n",
       "      <td>10.400000</td>\n",
       "      <td>54.50000</td>\n",
       "      <td>1.000000</td>\n",
       "      <td>22.400000</td>\n",
       "      <td>45.000000</td>\n",
       "      <td>41.400000</td>\n",
       "      <td>11.100000</td>\n",
       "      <td>47.900000</td>\n",
       "    </tr>\n",
       "    <tr>\n",
       "      <th>25%</th>\n",
       "      <td>5.250000</td>\n",
       "      <td>87.375000</td>\n",
       "      <td>78.3500</td>\n",
       "      <td>71.225000</td>\n",
       "      <td>18.600000</td>\n",
       "      <td>63.80000</td>\n",
       "      <td>5.000000</td>\n",
       "      <td>77.275000</td>\n",
       "      <td>70.850000</td>\n",
       "      <td>69.450000</td>\n",
       "      <td>19.100000</td>\n",
       "      <td>64.825000</td>\n",
       "    </tr>\n",
       "    <tr>\n",
       "      <th>50%</th>\n",
       "      <td>11.000000</td>\n",
       "      <td>104.350000</td>\n",
       "      <td>85.3500</td>\n",
       "      <td>79.350000</td>\n",
       "      <td>20.400000</td>\n",
       "      <td>67.50000</td>\n",
       "      <td>10.000000</td>\n",
       "      <td>94.600000</td>\n",
       "      <td>77.700000</td>\n",
       "      <td>77.900000</td>\n",
       "      <td>20.800000</td>\n",
       "      <td>69.200000</td>\n",
       "    </tr>\n",
       "    <tr>\n",
       "      <th>75%</th>\n",
       "      <td>17.000000</td>\n",
       "      <td>120.200000</td>\n",
       "      <td>90.5250</td>\n",
       "      <td>86.575000</td>\n",
       "      <td>21.875000</td>\n",
       "      <td>71.07500</td>\n",
       "      <td>19.000000</td>\n",
       "      <td>113.975000</td>\n",
       "      <td>84.400000</td>\n",
       "      <td>86.650000</td>\n",
       "      <td>22.375000</td>\n",
       "      <td>72.500000</td>\n",
       "    </tr>\n",
       "    <tr>\n",
       "      <th>max</th>\n",
       "      <td>30.000000</td>\n",
       "      <td>155.700000</td>\n",
       "      <td>108.9000</td>\n",
       "      <td>126.700000</td>\n",
       "      <td>27.300000</td>\n",
       "      <td>82.70000</td>\n",
       "      <td>37.000000</td>\n",
       "      <td>152.300000</td>\n",
       "      <td>111.600000</td>\n",
       "      <td>130.200000</td>\n",
       "      <td>31.000000</td>\n",
       "      <td>84.400000</td>\n",
       "    </tr>\n",
       "  </tbody>\n",
       "</table>\n",
       "</div>"
      ],
      "text/plain": [
       "       Baseline File Count  Baseline Average Lift Rate  \\\n",
       "count           250.000000                  250.000000   \n",
       "mean             11.316000                  101.800800   \n",
       "std               7.016915                   26.701345   \n",
       "min               1.000000                   15.700000   \n",
       "25%               5.250000                   87.375000   \n",
       "50%              11.000000                  104.350000   \n",
       "75%              17.000000                  120.200000   \n",
       "max              30.000000                  155.700000   \n",
       "\n",
       "       Baseline Average Max Forward Bend  Baseline Average Max Tilt Velocity  \\\n",
       "count                           250.0000                          250.000000   \n",
       "mean                             84.4992                           79.541200   \n",
       "std                               9.0167                           11.646815   \n",
       "min                              56.0000                           49.600000   \n",
       "25%                              78.3500                           71.225000   \n",
       "50%                              85.3500                           79.350000   \n",
       "75%                              90.5250                           86.575000   \n",
       "max                             108.9000                          126.700000   \n",
       "\n",
       "       Baseline Average Twist Velocity  Baseline Average Safety Score  \\\n",
       "count                       250.000000                      250.00000   \n",
       "mean                         20.148000                       67.38720   \n",
       "std                           2.729862                        5.19752   \n",
       "min                          10.400000                       54.50000   \n",
       "25%                          18.600000                       63.80000   \n",
       "50%                          20.400000                       67.50000   \n",
       "75%                          21.875000                       71.07500   \n",
       "max                          27.300000                       82.70000   \n",
       "\n",
       "       Intervention File Count  Intervention Average Lift Rate  \\\n",
       "count               226.000000                      226.000000   \n",
       "mean                 12.415929                       94.064159   \n",
       "std                   8.803258                       26.560991   \n",
       "min                   1.000000                       22.400000   \n",
       "25%                   5.000000                       77.275000   \n",
       "50%                  10.000000                       94.600000   \n",
       "75%                  19.000000                      113.975000   \n",
       "max                  37.000000                      152.300000   \n",
       "\n",
       "       Intervention Average Max Forward Bend  \\\n",
       "count                             226.000000   \n",
       "mean                               77.446018   \n",
       "std                                11.120284   \n",
       "min                                45.000000   \n",
       "25%                                70.850000   \n",
       "50%                                77.700000   \n",
       "75%                                84.400000   \n",
       "max                               111.600000   \n",
       "\n",
       "       Intervention Average Max Tilt Velocity  \\\n",
       "count                              226.000000   \n",
       "mean                                79.291150   \n",
       "std                                 14.341111   \n",
       "min                                 41.400000   \n",
       "25%                                 69.450000   \n",
       "50%                                 77.900000   \n",
       "75%                                 86.650000   \n",
       "max                                130.200000   \n",
       "\n",
       "       Intervention Average Twist Velocity  Intervention Average Safety Score  \n",
       "count                           226.000000                         226.000000  \n",
       "mean                             20.577434                          68.613274  \n",
       "std                               2.836081                           5.961029  \n",
       "min                              11.100000                          47.900000  \n",
       "25%                              19.100000                          64.825000  \n",
       "50%                              20.800000                          69.200000  \n",
       "75%                              22.375000                          72.500000  \n",
       "max                              31.000000                          84.400000  "
      ]
     },
     "execution_count": 5,
     "metadata": {},
     "output_type": "execute_result"
    }
   ],
   "source": [
    "data.describe()"
   ]
  },
  {
   "cell_type": "code",
   "execution_count": 6,
   "metadata": {},
   "outputs": [
    {
     "name": "stdout",
     "output_type": "stream",
     "text": [
      "ID:\t 267 \t True\n"
     ]
    }
   ],
   "source": [
    "# Check uniqueness\n",
    "print('ID:\\t', len(data['ID'].unique()), '\\t', len(data['ID'].unique()) == len(data))"
   ]
  },
  {
   "cell_type": "code",
   "execution_count": 7,
   "metadata": {},
   "outputs": [
    {
     "data": {
      "text/plain": [
       "<matplotlib.axes._subplots.AxesSubplot at 0x7f7e5e9c1310>"
      ]
     },
     "execution_count": 7,
     "metadata": {},
     "output_type": "execute_result"
    },
    {
     "data": {
      "image/png": "[encoded data removed]",
      "text/plain": [
       "<Figure size 432x288 with 1 Axes>"
      ]
     },
     "metadata": {
      "needs_background": "light"
     },
     "output_type": "display_data"
    }
   ],
   "source": [
    "data.boxplot(column=['Baseline Average Safety Score','Intervention Average Safety Score'])  "
   ]
  },
  {
   "cell_type": "code",
   "execution_count": 8,
   "metadata": {},
   "outputs": [
    {
     "name": "stdout",
     "output_type": "stream",
     "text": [
      "68.61327433628321 \t 67.38720000000002\n"
     ]
    }
   ],
   "source": [
    "# t-test safety_score\n",
    "test_val = data['Intervention Average Safety Score'].dropna()\n",
    "cont_val = data['Baseline Average Safety Score'].dropna()\n",
    "\n",
    "print(test_val.mean(), '\\t', cont_val.mean())"
   ]
  },
  {
   "cell_type": "code",
   "execution_count": 9,
   "metadata": {},
   "outputs": [
    {
     "name": "stdout",
     "output_type": "stream",
     "text": [
      "Ttest_indResult(statistic=2.380451549560585, pvalue=0.01770784503844435)\n"
     ]
    }
   ],
   "source": [
    "print(ttest_ind(test_val, cont_val, equal_var=False))"
   ]
  },
  {
   "cell_type": "code",
   "execution_count": 10,
   "metadata": {},
   "outputs": [
    {
     "name": "stdout",
     "output_type": "stream",
     "text": [
      "Ttest_indResult(statistic=-7.551505470082582, pvalue=2.568493113951207e-13)\n"
     ]
    }
   ],
   "source": [
    "# t-test Forward bend\n",
    "test_val = data['Intervention Average Max Forward Bend'].dropna()\n",
    "cont_val = data['Baseline Average Max Forward Bend'].dropna()\n",
    "\n",
    "print(ttest_ind(test_val, cont_val, equal_var=False))"
   ]
  },
  {
   "cell_type": "code",
   "execution_count": 11,
   "metadata": {},
   "outputs": [
    {
     "name": "stdout",
     "output_type": "stream",
     "text": [
      "Ttest_indResult(statistic=-0.2074670558477131, pvalue=0.8357424510991533)\n"
     ]
    }
   ],
   "source": [
    "# t-test tilt velocity\n",
    "test_val = data['Intervention Average Max Tilt Velocity'].dropna()\n",
    "cont_val = data['Baseline Average Max Tilt Velocity'].dropna()\n",
    "\n",
    "print(ttest_ind(test_val, cont_val, equal_var=False))"
   ]
  },
  {
   "cell_type": "code",
   "execution_count": 12,
   "metadata": {},
   "outputs": [
    {
     "name": "stdout",
     "output_type": "stream",
     "text": [
      "Ttest_indResult(statistic=1.6792357592041458, pvalue=0.09377787193508916)\n"
     ]
    }
   ],
   "source": [
    "# t-test twist velocity\n",
    "test_val = data['Intervention Average Twist Velocity'].dropna()\n",
    "cont_val = data['Baseline Average Twist Velocity'].dropna()\n",
    "\n",
    "print(ttest_ind(test_val, cont_val, equal_var=False))"
   ]
  },
  {
   "cell_type": "code",
   "execution_count": 13,
   "metadata": {},
   "outputs": [
    {
     "name": "stdout",
     "output_type": "stream",
     "text": [
      "Ttest_indResult(statistic=-3.165477011131948, pvalue=0.001648909666524492)\n"
     ]
    }
   ],
   "source": [
    "# t-test lift\n",
    "test_val = data['Intervention Average Lift Rate'].dropna()\n",
    "cont_val = data['Baseline Average Lift Rate'].dropna()\n",
    "\n",
    "print(ttest_ind(test_val, cont_val, equal_var=False))"
   ]
  },
  {
   "cell_type": "code",
   "execution_count": 14,
   "metadata": {},
   "outputs": [
    {
     "data": {
      "text/html": [
       "<div>\n",
       "<style scoped>\n",
       "    .dataframe tbody tr th:only-of-type {\n",
       "        vertical-align: middle;\n",
       "    }\n",
       "\n",
       "    .dataframe tbody tr th {\n",
       "        vertical-align: top;\n",
       "    }\n",
       "\n",
       "    .dataframe thead th {\n",
       "        text-align: right;\n",
       "    }\n",
       "</style>\n",
       "<table border=\"1\" class=\"dataframe\">\n",
       "  <thead>\n",
       "    <tr style=\"text-align: right;\">\n",
       "      <th></th>\n",
       "      <th>Baseline File Count</th>\n",
       "      <th>Baseline Average Lift Rate</th>\n",
       "      <th>Baseline Average Max Forward Bend</th>\n",
       "      <th>Baseline Average Max Tilt Velocity</th>\n",
       "      <th>Baseline Average Twist Velocity</th>\n",
       "      <th>Baseline Average Safety Score</th>\n",
       "    </tr>\n",
       "  </thead>\n",
       "  <tbody>\n",
       "    <tr>\n",
       "      <th>0</th>\n",
       "      <td>19.0</td>\n",
       "      <td>155.7</td>\n",
       "      <td>93.1</td>\n",
       "      <td>88.8</td>\n",
       "      <td>23.2</td>\n",
       "      <td>59.7</td>\n",
       "    </tr>\n",
       "    <tr>\n",
       "      <th>1</th>\n",
       "      <td>7.0</td>\n",
       "      <td>153.8</td>\n",
       "      <td>97.6</td>\n",
       "      <td>76.1</td>\n",
       "      <td>24.5</td>\n",
       "      <td>62.7</td>\n",
       "    </tr>\n",
       "    <tr>\n",
       "      <th>2</th>\n",
       "      <td>16.0</td>\n",
       "      <td>145.6</td>\n",
       "      <td>86.9</td>\n",
       "      <td>76.7</td>\n",
       "      <td>21.0</td>\n",
       "      <td>66.4</td>\n",
       "    </tr>\n",
       "    <tr>\n",
       "      <th>3</th>\n",
       "      <td>1.0</td>\n",
       "      <td>145.2</td>\n",
       "      <td>83.3</td>\n",
       "      <td>73.7</td>\n",
       "      <td>21.6</td>\n",
       "      <td>68.1</td>\n",
       "    </tr>\n",
       "    <tr>\n",
       "      <th>4</th>\n",
       "      <td>9.0</td>\n",
       "      <td>145.1</td>\n",
       "      <td>105.0</td>\n",
       "      <td>86.1</td>\n",
       "      <td>23.2</td>\n",
       "      <td>58.6</td>\n",
       "    </tr>\n",
       "  </tbody>\n",
       "</table>\n",
       "</div>"
      ],
      "text/plain": [
       "   Baseline File Count  Baseline Average Lift Rate  \\\n",
       "0                 19.0                       155.7   \n",
       "1                  7.0                       153.8   \n",
       "2                 16.0                       145.6   \n",
       "3                  1.0                       145.2   \n",
       "4                  9.0                       145.1   \n",
       "\n",
       "   Baseline Average Max Forward Bend  Baseline Average Max Tilt Velocity  \\\n",
       "0                               93.1                                88.8   \n",
       "1                               97.6                                76.1   \n",
       "2                               86.9                                76.7   \n",
       "3                               83.3                                73.7   \n",
       "4                              105.0                                86.1   \n",
       "\n",
       "   Baseline Average Twist Velocity  Baseline Average Safety Score  \n",
       "0                             23.2                           59.7  \n",
       "1                             24.5                           62.7  \n",
       "2                             21.0                           66.4  \n",
       "3                             21.6                           68.1  \n",
       "4                             23.2                           58.6  "
      ]
     },
     "execution_count": 14,
     "metadata": {},
     "output_type": "execute_result"
    }
   ],
   "source": [
    "baseline = data[['Baseline File Count','Baseline Average Lift Rate','Baseline Average Max Forward Bend','Baseline Average Max Tilt Velocity','Baseline Average Twist Velocity','Baseline Average Safety Score']]\n",
    "baseline.head()"
   ]
  },
  {
   "cell_type": "code",
   "execution_count": 15,
   "metadata": {},
   "outputs": [
    {
     "data": {
      "text/plain": [
       "Baseline File Count                   76\n",
       "Baseline Average Lift Rate            76\n",
       "Baseline Average Max Forward Bend     76\n",
       "Baseline Average Max Tilt Velocity    76\n",
       "Baseline Average Twist Velocity       76\n",
       "Baseline Average Safety Score         76\n",
       "dtype: int64"
      ]
     },
     "execution_count": 15,
     "metadata": {},
     "output_type": "execute_result"
    }
   ],
   "source": [
    "# Low Risk\n",
    "baseline[baseline['Baseline Average Safety Score']>70].count()"
   ]
  },
  {
   "cell_type": "code",
   "execution_count": 16,
   "metadata": {},
   "outputs": [
    {
     "data": {
      "text/plain": [
       "Baseline File Count                   173\n",
       "Baseline Average Lift Rate            173\n",
       "Baseline Average Max Forward Bend     173\n",
       "Baseline Average Max Tilt Velocity    173\n",
       "Baseline Average Twist Velocity       173\n",
       "Baseline Average Safety Score         173\n",
       "dtype: int64"
      ]
     },
     "execution_count": 16,
     "metadata": {},
     "output_type": "execute_result"
    }
   ],
   "source": [
    "# Moderate Risk\n",
    "moderate=baseline[(baseline['Baseline Average Safety Score']>=40) & (baseline['Baseline Average Safety Score']<70)]\n",
    "moderate.count()"
   ]
  },
  {
   "cell_type": "code",
   "execution_count": 17,
   "metadata": {},
   "outputs": [],
   "source": [
    "from sklearn.linear_model import LinearRegression\n",
    "x = moderate.iloc[:,:-1].values\n",
    "y = moderate.iloc[:,-1].values"
   ]
  },
  {
   "cell_type": "code",
   "execution_count": 18,
   "metadata": {},
   "outputs": [
    {
     "data": {
      "text/plain": [
       "0.9936761045051212"
      ]
     },
     "execution_count": 18,
     "metadata": {},
     "output_type": "execute_result"
    }
   ],
   "source": [
    "reg = LinearRegression().fit(x, y)\n",
    "reg.score(x,y)"
   ]
  },
  {
   "cell_type": "code",
   "execution_count": 19,
   "metadata": {},
   "outputs": [
    {
     "data": {
      "text/plain": [
       "array([-0.00224301, -0.02919763, -0.17949573, -0.32602949, -0.50179979])"
      ]
     },
     "execution_count": 19,
     "metadata": {},
     "output_type": "execute_result"
    }
   ],
   "source": [
    "reg.coef_"
   ]
  },
  {
   "cell_type": "code",
   "execution_count": 20,
   "metadata": {},
   "outputs": [
    {
     "data": {
      "text/plain": [
       "121.80448139255772"
      ]
     },
     "execution_count": 20,
     "metadata": {},
     "output_type": "execute_result"
    }
   ],
   "source": [
    "reg.intercept_"
   ]
  },
  {
   "cell_type": "code",
   "execution_count": 21,
   "metadata": {},
   "outputs": [
    {
     "data": {
      "text/plain": [
       "Baseline File Count                   0\n",
       "Baseline Average Lift Rate            0\n",
       "Baseline Average Max Forward Bend     0\n",
       "Baseline Average Max Tilt Velocity    0\n",
       "Baseline Average Twist Velocity       0\n",
       "Baseline Average Safety Score         0\n",
       "dtype: int64"
      ]
     },
     "execution_count": 21,
     "metadata": {},
     "output_type": "execute_result"
    }
   ],
   "source": [
    "# High Risk\n",
    "baseline[baseline['Baseline Average Safety Score']<40].count()"
   ]
  },
  {
   "cell_type": "markdown",
   "metadata": {},
   "source": [
    "### Twist Velocity is the most important feature that may cause risk"
   ]
  },
  {
   "cell_type": "code",
   "execution_count": 22,
   "metadata": {},
   "outputs": [
    {
     "data": {
      "text/html": [
       "<div>\n",
       "<style scoped>\n",
       "    .dataframe tbody tr th:only-of-type {\n",
       "        vertical-align: middle;\n",
       "    }\n",
       "\n",
       "    .dataframe tbody tr th {\n",
       "        vertical-align: top;\n",
       "    }\n",
       "\n",
       "    .dataframe thead th {\n",
       "        text-align: right;\n",
       "    }\n",
       "</style>\n",
       "<table border=\"1\" class=\"dataframe\">\n",
       "  <thead>\n",
       "    <tr style=\"text-align: right;\">\n",
       "      <th></th>\n",
       "      <th>Intervention File Count</th>\n",
       "      <th>Intervention Average Lift Rate</th>\n",
       "      <th>Intervention Average Max Forward Bend</th>\n",
       "      <th>Intervention Average Max Tilt Velocity</th>\n",
       "      <th>Intervention Average Twist Velocity</th>\n",
       "      <th>Intervention Average Safety Score</th>\n",
       "    </tr>\n",
       "  </thead>\n",
       "  <tbody>\n",
       "    <tr>\n",
       "      <th>0</th>\n",
       "      <td>13.0</td>\n",
       "      <td>131.7</td>\n",
       "      <td>75.7</td>\n",
       "      <td>76.7</td>\n",
       "      <td>23.4</td>\n",
       "      <td>67.7</td>\n",
       "    </tr>\n",
       "    <tr>\n",
       "      <th>1</th>\n",
       "      <td>2.0</td>\n",
       "      <td>142.3</td>\n",
       "      <td>90.4</td>\n",
       "      <td>88.3</td>\n",
       "      <td>24.9</td>\n",
       "      <td>60.2</td>\n",
       "    </tr>\n",
       "    <tr>\n",
       "      <th>2</th>\n",
       "      <td>17.0</td>\n",
       "      <td>124.1</td>\n",
       "      <td>69.7</td>\n",
       "      <td>76.3</td>\n",
       "      <td>20.8</td>\n",
       "      <td>70.2</td>\n",
       "    </tr>\n",
       "    <tr>\n",
       "      <th>3</th>\n",
       "      <td>NaN</td>\n",
       "      <td>NaN</td>\n",
       "      <td>NaN</td>\n",
       "      <td>NaN</td>\n",
       "      <td>NaN</td>\n",
       "      <td>NaN</td>\n",
       "    </tr>\n",
       "    <tr>\n",
       "      <th>4</th>\n",
       "      <td>16.0</td>\n",
       "      <td>131.4</td>\n",
       "      <td>104.0</td>\n",
       "      <td>89.9</td>\n",
       "      <td>23.7</td>\n",
       "      <td>58.1</td>\n",
       "    </tr>\n",
       "  </tbody>\n",
       "</table>\n",
       "</div>"
      ],
      "text/plain": [
       "   Intervention File Count  Intervention Average Lift Rate  \\\n",
       "0                     13.0                           131.7   \n",
       "1                      2.0                           142.3   \n",
       "2                     17.0                           124.1   \n",
       "3                      NaN                             NaN   \n",
       "4                     16.0                           131.4   \n",
       "\n",
       "   Intervention Average Max Forward Bend  \\\n",
       "0                                   75.7   \n",
       "1                                   90.4   \n",
       "2                                   69.7   \n",
       "3                                    NaN   \n",
       "4                                  104.0   \n",
       "\n",
       "   Intervention Average Max Tilt Velocity  \\\n",
       "0                                    76.7   \n",
       "1                                    88.3   \n",
       "2                                    76.3   \n",
       "3                                     NaN   \n",
       "4                                    89.9   \n",
       "\n",
       "   Intervention Average Twist Velocity  Intervention Average Safety Score  \n",
       "0                                 23.4                               67.7  \n",
       "1                                 24.9                               60.2  \n",
       "2                                 20.8                               70.2  \n",
       "3                                  NaN                                NaN  \n",
       "4                                 23.7                               58.1  "
      ]
     },
     "execution_count": 22,
     "metadata": {},
     "output_type": "execute_result"
    }
   ],
   "source": [
    "intervention = data[['Intervention File Count','Intervention Average Lift Rate','Intervention Average Max Forward Bend','Intervention Average Max Tilt Velocity','Intervention Average Twist Velocity','Intervention Average Safety Score']]\n",
    "intervention.head()"
   ]
  },
  {
   "cell_type": "code",
   "execution_count": 23,
   "metadata": {},
   "outputs": [
    {
     "data": {
      "text/plain": [
       "Intervention File Count                   95\n",
       "Intervention Average Lift Rate            95\n",
       "Intervention Average Max Forward Bend     95\n",
       "Intervention Average Max Tilt Velocity    95\n",
       "Intervention Average Twist Velocity       95\n",
       "Intervention Average Safety Score         95\n",
       "dtype: int64"
      ]
     },
     "execution_count": 23,
     "metadata": {},
     "output_type": "execute_result"
    }
   ],
   "source": [
    "# Low Risk\n",
    "intervention[intervention['Intervention Average Safety Score']>70].count()"
   ]
  },
  {
   "cell_type": "code",
   "execution_count": 24,
   "metadata": {},
   "outputs": [
    {
     "data": {
      "text/plain": [
       "Intervention File Count                   0\n",
       "Intervention Average Lift Rate            0\n",
       "Intervention Average Max Forward Bend     0\n",
       "Intervention Average Max Tilt Velocity    0\n",
       "Intervention Average Twist Velocity       0\n",
       "Intervention Average Safety Score         0\n",
       "dtype: int64"
      ]
     },
     "execution_count": 24,
     "metadata": {},
     "output_type": "execute_result"
    }
   ],
   "source": [
    "# Moderate Risk\n",
    "intervention[(intervention['Intervention Average Safety Score'])<=70 & (intervention['Intervention Average Safety Score']>40)].count()"
   ]
  },
  {
   "cell_type": "code",
   "execution_count": 25,
   "metadata": {},
   "outputs": [
    {
     "data": {
      "text/plain": [
       "Intervention File Count                   0\n",
       "Intervention Average Lift Rate            0\n",
       "Intervention Average Max Forward Bend     0\n",
       "Intervention Average Max Tilt Velocity    0\n",
       "Intervention Average Twist Velocity       0\n",
       "Intervention Average Safety Score         0\n",
       "dtype: int64"
      ]
     },
     "execution_count": 25,
     "metadata": {},
     "output_type": "execute_result"
    }
   ],
   "source": [
    "# High Risk\n",
    "intervention[intervention['Intervention Average Safety Score']<40].count()"
   ]
  },
  {
   "cell_type": "code",
   "execution_count": null,
   "metadata": {},
   "outputs": [],
   "source": []
  }
 ],
 "metadata": {
  "kernelspec": {
   "display_name": "Python 3",
   "language": "python",
   "name": "python3"
  },
  "language_info": {
   "codemirror_mode": {
    "name": "ipython",
    "version": 3
   },
   "file_extension": ".py",
   "mimetype": "text/x-python",
   "name": "python",
   "nbconvert_exporter": "python",
   "pygments_lexer": "ipython3",
   "version": "3.7.6"
  }
 },
 "nbformat": 4,
 "nbformat_minor": 4
}
